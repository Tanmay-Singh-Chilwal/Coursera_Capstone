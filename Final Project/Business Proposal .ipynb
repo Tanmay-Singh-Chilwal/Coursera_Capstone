{
 "cells": [
  {
   "cell_type": "markdown",
   "metadata": {},
   "source": [
    "# The Battle of Neighborhoods | Business Proposal "
   ]
  },
  {
   "cell_type": "markdown",
   "metadata": {},
   "source": [
    "## Introduction :"
   ]
  },
  {
   "cell_type": "markdown",
   "metadata": {},
   "source": [
    "The purpose of this project is to help people in exploring better facilities around their neighborhood. It will help people making smart and efficient decision on selecting great neighborhood out of multiple neighborhoods in Scarborough, Toronto.\n",
    "\n",
    "This Project aims to create a detailed analysis of the features for the people migrating to Scarborough to search the best neighborhood according to their needs, while at the same time be able to compare between neighborhoods. The features include median housing price and better school accordings to ratings, crime rates of that particular area, road connectivity, weather conditions, good management for emergency, water resources, both fresh and waste water and excrement conveyed in seweres and recreational facilities."
   ]
  },
  {
   "cell_type": "markdown",
   "metadata": {},
   "source": [
    "## Aim :"
   ]
  },
  {
   "cell_type": "markdown",
   "metadata": {},
   "source": [
    "To suggest a better neighborhood to the people migrating to Scarborough or Toronto on the basis of all the socio-economic features."
   ]
  },
  {
   "cell_type": "markdown",
   "metadata": {},
   "source": [
    "## Workflow :"
   ]
  },
  {
   "cell_type": "markdown",
   "metadata": {},
   "source": [
    "Using credentials of Foursquare API features of nearby places of the neighborhoods would be mined. Due to http request limitations the number of places per neighborhood parameter would reasonably be set to 100 and the radius parameter would be set to 500."
   ]
  },
  {
   "cell_type": "markdown",
   "metadata": {},
   "source": [
    "## Libraries Used :"
   ]
  },
  {
   "cell_type": "markdown",
   "metadata": {},
   "source": [
    "Pandas : For creating and manipulating dataframes.\n",
    "\n",
    "Folium : Python visualization library would be used to visualize the neighborhoods cluster distribution of using interactive leaflet map.\n",
    "\n",
    "Scikit Learn : For importing k-means clustering.\n",
    "\n",
    "JSON : Library to handle JSON files\n",
    "\n",
    "Geocoder : To retrieve Location Data \n",
    "\n",
    "Beautiful Soup and Requests : To scrape and handle http requests.\n",
    "\n",
    "Matplotlib : For plotting and visualization."
   ]
  },
  {
   "cell_type": "code",
   "execution_count": null,
   "metadata": {},
   "outputs": [],
   "source": []
  }
 ],
 "metadata": {
  "kernelspec": {
   "display_name": "Python 3",
   "language": "python",
   "name": "python3"
  },
  "language_info": {
   "codemirror_mode": {
    "name": "ipython",
    "version": 3
   },
   "file_extension": ".py",
   "mimetype": "text/x-python",
   "name": "python",
   "nbconvert_exporter": "python",
   "pygments_lexer": "ipython3",
   "version": "3.8.3"
  }
 },
 "nbformat": 4,
 "nbformat_minor": 4
}
