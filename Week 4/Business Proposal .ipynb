{
 "cells": [
  {
   "cell_type": "markdown",
   "metadata": {},
   "source": [
    "# The Battle of Neighborhoods | Business Proposal "
   ]
  },
  {
   "cell_type": "markdown",
   "metadata": {},
   "source": [
    "## Introduction :"
   ]
  },
  {
   "cell_type": "markdown",
   "metadata": {},
   "source": [
    "Silicon Valley needs no introduction. It is considered as the cradle of innovation.\n",
    "Many tech companies have their offices and head quarters situated in the\n",
    " Bay Area. But what if someone wants to start a restaurant business in the\n",
    " Bay Area? There are already many restaurant chains in the valley and near\n",
    " the offices of almost every tech company. So how can someone address\n",
    "this problem? "
   ]
  },
  {
   "cell_type": "markdown",
   "metadata": {},
   "source": [
    "## Aim :"
   ]
  },
  {
   "cell_type": "markdown",
   "metadata": {},
   "source": [
    "The main idea behind the project is to analyse the restaurant chains in the Bay Area near\n",
    "the tech companies and to look for the areas where a successful restaurant business can be\n",
    "started. The other objective of the project is to pay special attention to the restaurant\n",
    "cuisine. Some neighbourhoods might already have a large number of same cuisine\n",
    "restaurants. Starting a restaurant in such an area won’t be much profitable. So to explain\n",
    "the project in an abstract, it aims at analysing the restaurants and in particular the cuisine\n",
    "of the restaurant near the Bay Area and to find out the best possible neighbourhood for\n",
    "opening a restaurant."
   ]
  },
  {
   "cell_type": "markdown",
   "metadata": {},
   "source": [
    "## Target Audience"
   ]
  },
  {
   "cell_type": "markdown",
   "metadata": {},
   "source": [
    "The project is beneficial to anyone who is looking to start a new restaurant business\n",
    "in the Bay Area. The audience is quite large and includes the big food supply\n",
    "brands like McDonalds and the Cheesecake Factory. The project can also benefit\n",
    "already running restaurants to shift to some other cuisine for better business\n",
    "prospects. "
   ]
  },
  {
   "cell_type": "markdown",
   "metadata": {},
   "source": [
    "## Libraries Used :"
   ]
  },
  {
   "cell_type": "markdown",
   "metadata": {},
   "source": [
    "Pandas : For creating and manipulating dataframes.\n",
    "\n",
    "Folium : Python visualization library would be used to visualize the neighborhoods cluster distribution of using interactive leaflet map.\n",
    "\n",
    "Scikit Learn : For importing k-means clustering.\n",
    "\n",
    "JSON : Library to handle JSON files\n",
    "\n",
    "Geocoder : To retrieve Location Data \n",
    "\n",
    "Beautiful Soup and Requests : To scrape and handle http requests.\n",
    "\n",
    "Matplotlib : For plotting and visualization."
   ]
  },
  {
   "cell_type": "code",
   "execution_count": null,
   "metadata": {},
   "outputs": [],
   "source": []
  }
 ],
 "metadata": {
  "kernelspec": {
   "display_name": "Python 3",
   "language": "python",
   "name": "python3"
  },
  "language_info": {
   "codemirror_mode": {
    "name": "ipython",
    "version": 3
   },
   "file_extension": ".py",
   "mimetype": "text/x-python",
   "name": "python",
   "nbconvert_exporter": "python",
   "pygments_lexer": "ipython3",
   "version": "3.8.3"
  }
 },
 "nbformat": 4,
 "nbformat_minor": 4
}
