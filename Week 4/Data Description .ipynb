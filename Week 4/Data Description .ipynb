{
 "cells": [
  {
   "cell_type": "markdown",
   "metadata": {},
   "source": [
    "## The Battle of Neighborhoods | Data Description"
   ]
  },
  {
   "cell_type": "markdown",
   "metadata": {},
   "source": [
    "## Data Description :"
   ]
  },
  {
   "cell_type": "markdown",
   "metadata": {},
   "source": [
    "The data requirements include:\n",
    "1. List of all the tech companies\n",
    "2. The coordinates of the offices\n",
    "3. The list of all the restaurants near the offices using Foursquare API"
   ]
  },
  {
   "cell_type": "markdown",
   "metadata": {},
   "source": [
    "## How the data will be used to solve the problem"
   ]
  },
  {
   "cell_type": "markdown",
   "metadata": {},
   "source": [
    "Firstly, the data will be cleaned to get the list of some of the companies of the area. After\n",
    "the pre-processing, the list of the offices will be used to explore the venues near the offices\n",
    "within the radius of 1000 using the Foursquare API. The venues will be filtered to obtain\n",
    "the list of the restaurants in the region. Then using KMeans clustering and data\n",
    "visualisation using Folium, a clear idea will be obtained on where to start the next\n",
    "restaurant business. The clusters’ evaluation will describe the best possible regions\n",
    "to open which particular cuisine restaurants. "
   ]
  },
  {
   "cell_type": "code",
   "execution_count": null,
   "metadata": {},
   "outputs": [],
   "source": []
  }
 ],
 "metadata": {
  "kernelspec": {
   "display_name": "Python 3",
   "language": "python",
   "name": "python3"
  },
  "language_info": {
   "codemirror_mode": {
    "name": "ipython",
    "version": 3
   },
   "file_extension": ".py",
   "mimetype": "text/x-python",
   "name": "python",
   "nbconvert_exporter": "python",
   "pygments_lexer": "ipython3",
   "version": "3.8.3"
  }
 },
 "nbformat": 4,
 "nbformat_minor": 4
}
